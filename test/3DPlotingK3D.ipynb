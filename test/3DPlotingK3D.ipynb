{
 "cells": [
  {
   "cell_type": "code",
   "execution_count": 1,
   "metadata": {},
   "outputs": [
    {
     "data": {
      "application/vnd.jupyter.widget-view+json": {
       "model_id": "7863ba7bdbd2494386c03c6dc3fa3624",
       "version_major": 2,
       "version_minor": 0
      },
      "text/plain": [
       "Output()"
      ]
     },
     "metadata": {},
     "output_type": "display_data"
    }
   ],
   "source": [
    "import k3d\n",
    "import numpy as np\n",
    "\n",
    "Nx = 30\n",
    "Ny = 60\n",
    "xmin, xmax = -3, 3\n",
    "ymin, ymax = -0, 3\n",
    "\n",
    "x = np.linspace(xmin, xmax, Nx)\n",
    "y = np.linspace(ymin, ymax, Ny)\n",
    "x, y = np.meshgrid(x, y)\n",
    "\n",
    "heights = np.sin(x**2 + y**2)\n",
    "\n",
    "plot = k3d.plot()\n",
    "plot += k3d.surface(heights.astype(np.float32), xmin=xmin, xmax=xmax, ymin=ymin, ymax=ymax)\n",
    "plot.display()"
   ]
  },
  {
   "cell_type": "code",
   "execution_count": 6,
   "metadata": {},
   "outputs": [
    {
     "data": {
      "application/vnd.jupyter.widget-view+json": {
       "model_id": "8e7a912537e044ebbdc94e719d52dc53",
       "version_major": 2,
       "version_minor": 0
      },
      "text/plain": [
       "Output()"
      ]
     },
     "metadata": {},
     "output_type": "display_data"
    }
   ],
   "source": [
    "import k3d\n",
    "import numpy as np\n",
    "import time \n",
    "\n",
    "plot = k3d.plot()\n",
    "\n",
    "Nx,Ny = 10,10\n",
    "\n",
    "x = np.linspace(-1,1,Nx)\n",
    "y = np.linspace(-2,2,Ny)\n",
    "\n",
    "x,y = np.meshgrid(x,y)\n",
    "z = np.zeros_like(x)\n",
    "\n",
    "origins = np.vstack([x.flatten(),y.flatten(),z.flatten()]).T\n",
    "vectors = 0.5*(np.vstack([np.zeros_like(x.flatten()),np.zeros_like(x.flatten()),np.ones_like(x.flatten())] )).T\n",
    "phi0 = np.linspace(0,2*np.pi,vectors.shape[0])\n",
    "labels = [str(i) for i in range(vectors.shape[0])]\n",
    "vector_plot = k3d.vectors(origins.astype(np.float32), vectors.astype(np.float32))\n",
    "\n",
    "origins2 = np.vstack([x.flatten(),y.flatten(),z.flatten()]).T\n",
    "vectors2 = 0.5*(np.vstack([np.zeros_like(x.flatten()),np.zeros_like(x.flatten()),np.ones_like(x.flatten())] )).T\n",
    "phi02 = np.linspace(0,2*np.pi,vectors.shape[0])\n",
    "labels2 = [str(i) for i in range(vectors.shape[0])]\n",
    "vector_plot2 = k3d.vectors(origins.astype(np.float32), vectors.astype(np.float32))\n",
    "\n",
    "\n",
    "plot += vector_plot\n",
    "plot += vector_plot2\n",
    "plot.display()"
   ]
  },
  {
   "cell_type": "code",
   "execution_count": null,
   "metadata": {},
   "outputs": [],
   "source": []
  }
 ],
 "metadata": {
  "kernelspec": {
   "display_name": "Python 3",
   "language": "python",
   "name": "python3"
  },
  "language_info": {
   "codemirror_mode": {
    "name": "ipython",
    "version": 3
   },
   "file_extension": ".py",
   "mimetype": "text/x-python",
   "name": "python",
   "nbconvert_exporter": "python",
   "pygments_lexer": "ipython3",
   "version": "3.6.8"
  }
 },
 "nbformat": 4,
 "nbformat_minor": 2
}
