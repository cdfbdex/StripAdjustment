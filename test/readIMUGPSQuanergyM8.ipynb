{
 "cells": [
  {
   "cell_type": "markdown",
   "metadata": {},
   "source": [
    "## readIMUGPSQuanergyM8:\n",
    "\n",
    "- <b>Description</b>:  This module implement 1 class and 1 method for reading IMU and GPS information from Quanergy M8 Lidar.\n",
    "- <b>Developed by</b>: Juan Camilo Bonilla, Andrés Suarez, Carlos Ferrin.\n",
    "- <b>Company</b>:       LiDARiT          \n",
    "- <b>Input</b>:        File name with .out extension.\n",
    "- <b>Output</b>:       Pandas (Python) Dataframe with the following 20 fields: GPSTime(SoW), Latitude, Longitude, Altitude, X, Y, Z, Roll, Pitch, Heading, VelX, VelY,  VelZ, AccX, AccY, AccZ, GyroX, GyroY, GyroZ and WanderAngle"
   ]
  },
  {
   "cell_type": "markdown",
   "metadata": {},
   "source": [
    "#### 1. Import Libs"
   ]
  },
  {
   "cell_type": "code",
   "execution_count": 1,
   "metadata": {},
   "outputs": [],
   "source": [
    "import math, struct, sys\n",
    "import os, mmap\n",
    "import utm\n",
    "import time\n",
    "from numpy import array\n",
    "import numpy as np\n",
    "from datetime import datetime\n",
    "from datetime import timezone\n",
    "from multiprocessing import Pipe, Process\n",
    "from tkinter import *\n",
    "import pandas as pd"
   ]
  },
  {
   "cell_type": "markdown",
   "metadata": {},
   "source": [
    "#### 2. Class readSbet for handling data."
   ]
  },
  {
   "cell_type": "code",
   "execution_count": 2,
   "metadata": {},
   "outputs": [],
   "source": [
    "class readSbet(object):\n",
    "\n",
    "\tdef __init__(self, file_sbet, Data_offset=0):\n",
    "\t\tself.index = 0\n",
    "\n",
    "\t\tself.field_names_sbet = ('tiempo', 'latitud', 'longitud', 'altitud', \\\n",
    "\t\t\t'x_vel', 'y_vel', 'z_vel', \\\n",
    "\t\t\t'roll', 'pitch', 'heading', 'wander_angle', \\\n",
    "\t\t\t'x_acceleration', 'y_acceleration', 'z_acceleration', \\\n",
    "\t\t\t'x_angular_rate', 'y_angular_rate', 'z_angular_rate')\n",
    "\n",
    "\t\tself.offset = Data_offset * 136\n",
    "\t\tself.Data_offset = Data_offset\n",
    "\t\tself.mapa_sbet = file_sbet\n",
    "\t\tself.longi = len(self.mapa_sbet)\n",
    "\t\tself.data_blocks = self.num_datagrams()\n",
    "\t\tself.unpack_binary()\n",
    "\n",
    "\t\t\n",
    "\n",
    "\tdef __iter__(self):\n",
    "\t\treturn self\n",
    "\n",
    "\tdef __next__(self):\n",
    "\t\tif self.Data_offset >= self.data_blocks:\n",
    "\t\t\traise StopIteration\n",
    "\t\tself.offset = self.Data_offset * 136\n",
    "\t\tself.unpack_binary()\n",
    "\t\tself.Data_offset += 1\n",
    "\t\treturn self.sbet_values\n",
    "\t\n",
    "\tdef num_datagrams(self):\n",
    "\t\tif(self.longi%136) != 0:#------reemplaza (assert(longi%datagram_size== 0))\n",
    "\t\t\tprint(\"Error in file length\")\n",
    "\t\t\tprint(\"longi%datagram_size =\",self.longi%136)\n",
    "\t\t\tsys.exit()\n",
    "\t\treturn int(self.longi / 136)\n",
    "\n",
    "\t@property\n",
    "\tdef geo(self):\n",
    "\t\treturn self.sbet_values\n",
    "\n",
    "\tdef unpack_binary(self):\n",
    "\t\tself.values = struct.unpack('17d', self.mapa_sbet[ self.offset : self.offset + 136 ])\n",
    "\t\tself.sbet_values = dict(zip (self.field_names_sbet, self.values))\n",
    "\n",
    "\t\t#self.sbet_values['latitud'] = np.rad2deg(self.sbet_values['latitud'])\n",
    "\t\t#self.sbet_values['longitud'] = np.rad2deg(self.sbet_values['longitud'])       \n",
    "\t\t#self.cordeutm = utm.from_latlon(self.sbet_values['latitud'],self.sbet_values['longitud'])\n",
    "\t\tself.cordeutm = utm.from_latlon(np.rad2deg(self.sbet_values['latitud']),np.rad2deg(self.sbet_values['longitud']))\n",
    "\t\tself.sbet_values['X'] = self.cordeutm[0]\n",
    "\t\tself.sbet_values['Y'] = self.cordeutm[1]\n",
    "\t\tself.sbet_values['Z'] = self.sbet_values['altitud']\n",
    "###############################################################################################################################################################"
   ]
  },
  {
   "cell_type": "markdown",
   "metadata": {},
   "source": [
    "#### 3. Main method for getting IMU and GPS information."
   ]
  },
  {
   "cell_type": "code",
   "execution_count": 3,
   "metadata": {},
   "outputs": [],
   "source": [
    "def readIMUGPS(fileNameIMUGPS):\n",
    "    file_sbet = fileNameIMUGPS\n",
    "    sbet_file = open(file_sbet,'rb')\n",
    "    sbet_size = os.path.getsize(file_sbet)\n",
    "    mapa_sbet = mmap.mmap(sbet_file.fileno(),sbet_size, access=mmap.ACCESS_READ)\n",
    "    ops = readSbet(mapa_sbet,0)\n",
    "    \n",
    "    colNames = [\"GPSTime(SoW)\",\"Latitude\",\"Longitude\",\"Altitude\",\"X\",\"Y\",\"Z\",\"Roll\",\"Pitch\",\"Heading\",\\\n",
    "                \"VelX\",\"VelY\",\"VelZ\",\"AccX\",\"AccY\",\"AccZ\",\"GyroX\",\"GyroY\",\"GyroZ\",\"WanderAngle\"]\n",
    "    data = []\n",
    "\n",
    "    for char in ops:\n",
    "        time = float(char['tiempo'])            # Time (s)\n",
    "        latitude = float(char['latitud'])       # Degrees (°)\n",
    "        longitude = float(char['longitud'])     # Degrees (°)\n",
    "        altitude = float(char['altitud'])       # Meters (m)\n",
    "        x = float(char['X'])                    # Meters (m)\n",
    "        y = float(char['Y'])                    # Meters (m)\n",
    "        z = float(char['Z'])                    # Meters (m)\n",
    "        roll = float(char['roll'])              # Degrees (°)\n",
    "        pitch = float(char['pitch'])            # Degrees (°)\n",
    "        heading = float(char['heading'])        # Degrees (°)\n",
    "        velx = float(char['x_vel'])             # Speed (m/s)\n",
    "        vely = float(char['y_vel'])             # Speed (m/s)\n",
    "        velz = float(char['z_vel'])             # Speed (m/s)\n",
    "        accx = float(char['x_acceleration'])    # Acceleration (m/s^2)\n",
    "        accy = float(char['y_acceleration'])    # Acceleration (m/s^2)\n",
    "        accz = float(char['z_acceleration'])    # Acceleration (m/s^2)\n",
    "        gyrox = float(char['x_angular_rate'])   # Angular Speed (rad/s)\n",
    "        gyroy = float(char['y_angular_rate'])   # Angular Speed (rad/s)\n",
    "        gyroz = float(char['z_angular_rate'])   # Angular Speed (rad/s)\n",
    "        wanderang = float(char['wander_angle']) # Degrees (°)\n",
    "        register = [time, latitude, longitude, altitude, x, y, z, roll, pitch, heading, \\\n",
    "                    velx, vely, velz, accx, accy, accz, gyrox, gyroy, gyroz, wanderang]\n",
    "        data.append(register.copy())\n",
    "    df = pd.DataFrame(data, columns = colNames)\n",
    "    return df"
   ]
  },
  {
   "cell_type": "markdown",
   "metadata": {},
   "source": [
    "#### 4.  Example:"
   ]
  },
  {
   "cell_type": "code",
   "execution_count": 2,
   "metadata": {},
   "outputs": [],
   "source": [
    "# Comment when exporting from IPYNB to PY\n",
    "'''\n",
    "fileNameInput = 'Data_samples/Data1_IMUGPS.OUT'\n",
    "df = readIMUGPS(fileNameInput)\n",
    "df.head()\n",
    "print(fileNameInput)\n",
    "'''"
   ]
  },
  {
   "cell_type": "code",
   "execution_count": null,
   "metadata": {},
   "outputs": [],
   "source": []
  }
 ],
 "metadata": {
  "kernelspec": {
   "display_name": "Python 3",
   "language": "python",
   "name": "python3"
  },
  "language_info": {
   "codemirror_mode": {
    "name": "ipython",
    "version": 3
   },
   "file_extension": ".py",
   "mimetype": "text/x-python",
   "name": "python",
   "nbconvert_exporter": "python",
   "pygments_lexer": "ipython3",
   "version": "3.6.8"
  }
 },
 "nbformat": 4,
 "nbformat_minor": 2
}
